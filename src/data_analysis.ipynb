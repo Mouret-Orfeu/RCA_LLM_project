{
 "cells": [
  {
   "cell_type": "code",
   "execution_count": 5,
   "id": "642e5f50",
   "metadata": {},
   "outputs": [],
   "source": [
    "# define work dir att /home/orfeu/Documents/documents/info_perso/RCA_LLM_project\n",
    "import os\n",
    "os.chdir('/home/orfeu/Documents/documents/info_perso/RCA_LLM_project')\n",
    "\n",
    "# load ./data/itsm_tickets_meaningful_200.csv\n",
    "import pandas as pd\n",
    "# Best guess for French CSV saved from Excel/Windows:\n",
    "df = pd.read_csv('./data/itsm_tickets_meaningful_200.csv', sep=';', encoding='cp1252')\n"
   ]
  },
  {
   "cell_type": "code",
   "execution_count": 6,
   "id": "f0bea4d5",
   "metadata": {},
   "outputs": [
    {
     "name": "stdout",
     "output_type": "stream",
     "text": [
      "                             request_id                   title  \\\n",
      "0  c065f6ab-3d74-4b5c-913b-c4eccd49cd99  Problème de projecteur   \n",
      "\n",
      "                                  ticket_description  \\\n",
      "0  Bonjour l'équipe IT, mon projecteur pose probl...   \n",
      "\n",
      "                                   ticket_resolution     creation_date  \\\n",
      "0  Merci pour votre signalement. Le problème étai...  06/02/2025 05:58   \n",
      "\n",
      "    resolution_date  \n",
      "0  10/02/2025 20:58  \n"
     ]
    }
   ],
   "source": [
    "# show first row\n",
    "print(df.head(1))\n",
    "\n",
    "#save utf_8 csv\n",
    "df.to_csv('./data/itsm_tickets_meaningful_200_utf8.csv', index=False, encoding='utf-8')"
   ]
  },
  {
   "cell_type": "code",
   "execution_count": 7,
   "id": "4272cd22",
   "metadata": {},
   "outputs": [
    {
     "data": {
      "text/html": [
       "<div>\n",
       "<style scoped>\n",
       "    .dataframe tbody tr th:only-of-type {\n",
       "        vertical-align: middle;\n",
       "    }\n",
       "\n",
       "    .dataframe tbody tr th {\n",
       "        vertical-align: top;\n",
       "    }\n",
       "\n",
       "    .dataframe thead th {\n",
       "        text-align: right;\n",
       "    }\n",
       "</style>\n",
       "<table border=\"1\" class=\"dataframe\">\n",
       "  <thead>\n",
       "    <tr style=\"text-align: right;\">\n",
       "      <th></th>\n",
       "      <th>ticket_description_length</th>\n",
       "      <th>ticket_resolution_length</th>\n",
       "    </tr>\n",
       "  </thead>\n",
       "  <tbody>\n",
       "    <tr>\n",
       "      <th>count</th>\n",
       "      <td>200.000000</td>\n",
       "      <td>200.000000</td>\n",
       "    </tr>\n",
       "    <tr>\n",
       "      <th>mean</th>\n",
       "      <td>169.050000</td>\n",
       "      <td>160.680000</td>\n",
       "    </tr>\n",
       "    <tr>\n",
       "      <th>std</th>\n",
       "      <td>13.538239</td>\n",
       "      <td>17.120842</td>\n",
       "    </tr>\n",
       "    <tr>\n",
       "      <th>min</th>\n",
       "      <td>142.000000</td>\n",
       "      <td>123.000000</td>\n",
       "    </tr>\n",
       "    <tr>\n",
       "      <th>25%</th>\n",
       "      <td>160.000000</td>\n",
       "      <td>149.750000</td>\n",
       "    </tr>\n",
       "    <tr>\n",
       "      <th>50%</th>\n",
       "      <td>167.000000</td>\n",
       "      <td>158.000000</td>\n",
       "    </tr>\n",
       "    <tr>\n",
       "      <th>75%</th>\n",
       "      <td>174.000000</td>\n",
       "      <td>169.000000</td>\n",
       "    </tr>\n",
       "    <tr>\n",
       "      <th>max</th>\n",
       "      <td>217.000000</td>\n",
       "      <td>207.000000</td>\n",
       "    </tr>\n",
       "  </tbody>\n",
       "</table>\n",
       "</div>"
      ],
      "text/plain": [
       "       ticket_description_length  ticket_resolution_length\n",
       "count                 200.000000                200.000000\n",
       "mean                  169.050000                160.680000\n",
       "std                    13.538239                 17.120842\n",
       "min                   142.000000                123.000000\n",
       "25%                   160.000000                149.750000\n",
       "50%                   167.000000                158.000000\n",
       "75%                   174.000000                169.000000\n",
       "max                   217.000000                207.000000"
      ]
     },
     "execution_count": 7,
     "metadata": {},
     "output_type": "execute_result"
    }
   ],
   "source": [
    "# length input (column ticket_description) and ouptut(ticket_resolution) stats (mean, median, min, max, std etc)\n",
    "df['ticket_description_length'] = df['ticket_description'].str.len()\n",
    "df['ticket_resolution_length'] = df['ticket_resolution'].str.len()\n",
    "\n",
    "length_stats = df[['ticket_description_length', 'ticket_resolution_length']].describe()\n",
    "length_stats\n"
   ]
  },
  {
   "cell_type": "code",
   "execution_count": null,
   "id": "62ac19ab",
   "metadata": {},
   "outputs": [],
   "source": [
    "# number of different inputs/ outputs (at 10 characters of difference, meaning if they differ from less than 10 characters, they are considered the same)\n",
    "def count_similar_pairs(df, col1, col2, threshold=10):\n",
    "    count = 0\n",
    "    for i in range(len(df)):\n",
    "        for j in range(i + 1, len(df)):\n",
    "            if abs(df[col1][i] - df[col2][j]) < threshold:\n",
    "                count += 1\n",
    "    return count\n",
    "\n",
    "num_similar_pairs = count_similar_pairs(df, 'ticket_description_length', 'ticket_resolution_length')\n",
    "num_similar_pairs"
   ]
  }
 ],
 "metadata": {
  "kernelspec": {
   "display_name": "venv",
   "language": "python",
   "name": "python3"
  },
  "language_info": {
   "codemirror_mode": {
    "name": "ipython",
    "version": 3
   },
   "file_extension": ".py",
   "mimetype": "text/x-python",
   "name": "python",
   "nbconvert_exporter": "python",
   "pygments_lexer": "ipython3",
   "version": "3.12.3"
  }
 },
 "nbformat": 4,
 "nbformat_minor": 5
}

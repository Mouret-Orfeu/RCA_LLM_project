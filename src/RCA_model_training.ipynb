{
 "cells": [
  {
   "cell_type": "code",
   "execution_count": null,
   "metadata": {},
   "outputs": [],
   "source": [
    "# Run this cell when using google collab\n",
    "!git clone https://github.com/Mouret-Orfeu/RCA_LLM_project.git\n",
    "%cd RCA_LLM_project\n",
    "\n",
    "!python -m pip install --upgrade pip\n",
    "!pip install -r requirements.txt\n",
    "!pip install -e .\n",
    "\n",
    "# restart runtime, so that the environment changes are applied\n",
    "import os, sys\n",
    "os.kill(os.getpid(), 9) "
   ]
  },
  {
   "cell_type": "code",
   "execution_count": null,
   "metadata": {},
   "outputs": [],
   "source": [
    "import os, sys\n",
    "\n",
    "# for locale execution\n",
    "#os.chdir('/home/orfeu/Documents/documents/info_perso/RCA_LLM_project')\n",
    "\n",
    "# for collab usage\n",
    "%cd /content/RCA_LLM_project\n",
    "\n",
    "# Sanity check\n",
    "print(\"CWD:\", os.getcwd())\n",
    "\n",
    "import random\n",
    "import numpy as np\n",
    "import pandas as pd\n",
    "import torch\n",
    "from torch.utils.data import Dataset\n",
    "from torch.utils.data.dataloader import DataLoader\n",
    "from transformers import AutoModelForCausalLM, AutoTokenizer\n",
    "from rca_llm.utils import set_seed\n",
    "from rca_llm.RCADataset import RCADataset\n",
    "from rca_llm.trainer import Trainer\n",
    "from rca_llm.HFModelAdapter import HFModelAdapter\n",
    "set_seed(3407)\n",
    "device = torch.device(\"cuda\" if torch.cuda.is_available() else \"cpu\")"
   ]
  },
  {
   "cell_type": "code",
   "execution_count": null,
   "metadata": {},
   "outputs": [],
   "source": [
    "# connect to Hugging face to acces LLama model\n",
    "!pip install -U \"huggingface_hub[cli]\"\n",
    "from huggingface_hub import login\n",
    "login() "
   ]
  },
  {
   "cell_type": "code",
   "execution_count": null,
   "metadata": {},
   "outputs": [],
   "source": [
    "model_type = \"meta-llama/Llama-3.2-1B-Instruct\"\n",
    "tokenizer = AutoTokenizer.from_pretrained(model_type, token=True)\n",
    "hf_model = AutoModelForCausalLM.from_pretrained(model_type, token=True, torch_dtype=\"bfloat16\", device_map=\"auto\")\n",
    "model = HFModelAdapter(hf_model, model_type)"
   ]
  },
  {
   "cell_type": "code",
   "execution_count": null,
   "metadata": {},
   "outputs": [
    {
     "name": "stdout",
     "output_type": "stream",
     "text": [
      "Input IDs: tensor([50256, 50256, 50256,  ...,   415,    13, 50256])\n",
      "Labels: tensor([ -100,  -100,  -100,  ...,   415,    13, 50256])\n",
      "Decoded Input:\n",
      "description du ticket itsm: Bonjour, je ne peux pas utiliser correctement mon audio. Il ne fonctionne pas pendant les appels Teams surtout quand je tente d'envoyer un e-mail. Ce souci est apparu ce matin. Merci pour votre aide.\n",
      "Réponse de l'équipe IT pour la résolution du ticket: Merci pour votre signalement. Le problème était lié à un paramétrage réseau incorrect. Nous avons redémarré le service concerné. Cela devrait être résolu maintenant.\n",
      "\n",
      "Decoded Labels:\n",
      "mmmmmmmmmmmmmmmmmmmmmmmmmmmmmmmmmmmmmmmmmmmmmmmmmmmmmmmmmmmmmmmmmmmmmmmmmmmmmmmmmmmmmmmmmmmmmmmmmmmmmmmmmmmmmmmmmmmmmmmmmmmmmmmmmmmmmmmmmmmmmmmmmmmmmmmmmmmmmmmmmmmmmmmmmmmmmmmmmmmmmmmmmmmmmmmmmmmmmmmmmmmmmmmmmmmmmmmmmmmmmmmmmmmmmmmmmmmmmmmmmmmmmmmmmmmmmmmmmmmmmmmmmmmmmmmmmmmmmmmmmmmmmmmmmmmmmmmmmmmmmmmmmmmmmmmmmmmmmmmmmmmmmmmmmmmmmmmmmmmmmmmmmmmmmmmmmmmmmmmmmmmmmmmmmmmmmmmmmmmmmmmmmmmmmmmmmmmmmmmmmmmmmmmmmmmmmmmmmmmmmmmmmmmmmmmmmmmmmmmmmmmmmmmmmmmmmmmmmmmmmmmmmmmmmmmmmmmmmmmmmmmmmmmmmmmmmmmmmmmmmmmmmmmmmmmmmmmmmmmmmmmmmmmmmmmmmmmmmmmmmmmmmmmmmmmmmmmmmmmmmmmmmmmmmmmmmmmmmmmmmmmmmmmmmmmmmmmmmmmmmmmmmmmmmmmmmmmmmmmmmmmmmmmmmmmmmmmmmmmmmmmmmmmmmmmmmmmmmmmmmmmmmmmmmmmmmmmmmmmmmmmmmmmmmmmmmmmmmmmmmmmmmmmmmmmmmmmmmmmmmmmmmmmmmmmmmmmmmmmmmmmmmmmmmmmmmmmmmmmmmmmmmmmmmmmmmmmmmmmmmmmmmmmmmmmmmmmmmmmmmmmmmmmmmmmmmmmmmmmmmmmmmmmmmmmmmmmmmmmmmmmmmmmmmmmmmmmmmmmmmmmmmmmmmmmmmmmmmmmmmmmmmmmmmmmmmmmmmmmmmmmmmmmmmmmmmmmmmmmmmmmmmmmmmmmmmmmmmmmmmmmmmmmmmmmmmmmmmmmmmmmmmMerci pour votre signalement. Le problème était lié à un paramétrage réseau incorrect. Nous avons redémarré le service concerné. Cela devrait être résolu maintenant.\n",
      "\n"
     ]
    }
   ],
   "source": [
    "# print an example instance of the dataset\n",
    "df = pd.read_csv('./data/itsm_tickets_meaningful_200_utf8.csv', sep=';', encoding='utf-8')\n",
    "\n",
    "train_dataset = RCADataset(df, 'train', tokenizer)\n",
    "test_dataset = RCADataset(df, 'test', tokenizer)\n",
    "\n",
    "x, y = train_dataset[0]\n",
    "\n",
    "# token ids\n",
    "print(\"Input IDs:\", x)\n",
    "print(\"Labels:\", y)\n",
    "\n",
    "# decoded text\n",
    "print(f\"Decoded Input:\\n{tokenizer.decode(x, skip_special_tokens=True)}\\n\")\n",
    "\n",
    "# For y, I replace all masked tokens (id = -100) by the letter m\n",
    "y = [token if token != -100 else tokenizer.convert_tokens_to_ids('m') for token in y]\n",
    "print(f\"Decoded Labels:\\n{tokenizer.decode(y, skip_special_tokens=True)}\\n\")"
   ]
  },
  {
   "cell_type": "code",
   "execution_count": null,
   "metadata": {},
   "outputs": [],
   "source": [
    "train_config = Trainer.get_default_config()\n",
    "train_config.max_iters = 1000\n",
    "train_config.batch_size = 2\n",
    "trainer = Trainer(train_config, model, train_dataset)"
   ]
  },
  {
   "cell_type": "code",
   "execution_count": null,
   "metadata": {},
   "outputs": [
    {
     "name": "stdout",
     "output_type": "stream",
     "text": [
      "iter_dt 0.00ms; iter 0: train loss 0.00327\n",
      "iter_dt 26.96ms; iter 100: train loss 0.02028\n",
      "iter_dt 25.73ms; iter 200: train loss 0.02236\n",
      "iter_dt 33.71ms; iter 300: train loss 0.01246\n",
      "iter_dt 27.47ms; iter 400: train loss 0.02870\n",
      "iter_dt 28.32ms; iter 500: train loss 0.00278\n",
      "iter_dt 45.71ms; iter 600: train loss 0.03206\n",
      "iter_dt 26.38ms; iter 700: train loss 0.00522\n",
      "iter_dt 28.91ms; iter 800: train loss 0.00695\n",
      "iter_dt 27.86ms; iter 900: train loss 0.00521\n",
      "iter_dt 27.65ms; iter 1000: train loss 0.00120\n",
      "iter_dt 40.41ms; iter 1100: train loss 0.01663\n",
      "iter_dt 27.01ms; iter 1200: train loss 0.01429\n",
      "iter_dt 28.49ms; iter 1300: train loss 0.00135\n",
      "iter_dt 29.14ms; iter 1400: train loss 0.01628\n",
      "iter_dt 26.49ms; iter 1500: train loss 0.01357\n",
      "iter_dt 26.22ms; iter 1600: train loss 0.00091\n",
      "iter_dt 27.38ms; iter 1700: train loss 0.03434\n",
      "iter_dt 26.37ms; iter 1800: train loss 0.00266\n",
      "iter_dt 27.40ms; iter 1900: train loss 0.00617\n"
     ]
    }
   ],
   "source": [
    "def batch_end_callback(trainer):\n",
    "    if trainer.iter_num % 100 == 0:\n",
    "        print(f\"iter_dt {trainer.iter_dt * 1000:.2f}ms; iter {trainer.iter_num}: train loss {trainer.loss.item():.5f}\")\n",
    "        \n",
    "trainer.set_callback('on_batch_end', batch_end_callback)\n",
    "\n",
    "\n",
    "trainer.run()"
   ]
  },
  {
   "cell_type": "code",
   "execution_count": null,
   "metadata": {},
   "outputs": [],
   "source": [
    "def show_prediction_for_row(i, df, model, device, tokenizer, train_dataset=None,\n",
    "                            max_new_tokens=200, do_sample=False, temperature=1.0, top_k=None):\n",
    "    \"\"\"\n",
    "    Prints the question, ground truth answer, and the model's generated answer for row i.\n",
    "    \"\"\"\n",
    "\n",
    "    # Pull the raw texts\n",
    "    question = str(df.loc[i, 'ticket_description'])\n",
    "    ground_truth = str(df.loc[i, 'ticket_resolution'])\n",
    "\n",
    "    # Reuse the same prompt format as your dataset\n",
    "    if train_dataset is not None and hasattr(train_dataset, \"prompt_description_addition\") and hasattr(train_dataset, \"prompt_resolution_addition\"):\n",
    "        prompt_prefix = train_dataset.prompt_description_addition\n",
    "        between_prefix = train_dataset.prompt_resolution_addition\n",
    "    else:\n",
    "        # Fallbacks in case you didn't pass the dataset (keep consistent with your training)\n",
    "        prompt_prefix = \"description du ticket itsm: \"\n",
    "        between_prefix = \" Réponse de l'équipe IT pour la résolution du ticket: \"\n",
    "\n",
    "    prompt = f\"{prompt_prefix}{question}{between_prefix}\"\n",
    "\n",
    "    model.eval()\n",
    "    with torch.no_grad():\n",
    "        generated = model.generate_from_prompt(\n",
    "            prompt=prompt,\n",
    "            device=device,\n",
    "            max_new_tokens=max_new_tokens,\n",
    "            do_sample=do_sample,\n",
    "            temperature=temperature,\n",
    "            top_k=top_k,\n",
    "            return_new_text_only=True,      # only the continuation (answer)\n",
    "            skip_special_tokens=True\n",
    "        )\n",
    "\n",
    "    print(f\"Row: {i}\")\n",
    "    print(\"-\" * 80)\n",
    "    print(\"QUESTION:\")\n",
    "    print(question)\n",
    "    print(\"\\nGROUND TRUTH ANSWER:\")\n",
    "    print(ground_truth)\n",
    "    print(\"\\nMODEL GENERATION:\")\n",
    "    print(generated)\n",
    "    print(\"-\" * 80)\n",
    "\n",
    "# Example usage (adjust i as you like):\n",
    "device = torch.device(\"cuda\" if torch.cuda.is_available() else \"cpu\")\n",
    "i = 0\n",
    "show_prediction_for_row(i, df, model, device, tokenizer, train_dataset=train_dataset,\n",
    "                        max_new_tokens=300, do_sample=False)\n",
    "\n",
    "#Or evaluate a few random rows:\n",
    "# import random\n",
    "# for i in random.sample(range(len(df)), k=5):\n",
    "#     show_prediction_for_row(i, df, model, device, tokenizer, train_dataset=train_dataset)"
   ]
  },
  {
   "cell_type": "code",
   "execution_count": 11,
   "metadata": {},
   "outputs": [],
   "source": [
    "# now let's perform some evaluation\n",
    "model.eval();"
   ]
  },
  {
   "cell_type": "code",
   "execution_count": null,
   "metadata": {},
   "outputs": [
    {
     "name": "stdout",
     "output_type": "stream",
     "text": [
      "train final score: 5000/5000 = 100.00% correct\n",
      "test final score: 5000/5000 = 100.00% correct\n"
     ]
    }
   ],
   "source": [
    "def eval_split(trainer, split, max_batches):\n",
    "    dataset = {'train':train_dataset, 'test':test_dataset}[split]\n",
    "    n = train_dataset.length # naugy direct access shrug\n",
    "    results = []\n",
    "    mistakes_printed_already = 0\n",
    "    loader = DataLoader(dataset, batch_size=100, num_workers=0, drop_last=False)\n",
    "    for b, (x, y) in enumerate(loader):\n",
    "        x = x.to(trainer.device)\n",
    "        y = y.to(trainer.device)\n",
    "        # isolate the input pattern alone\n",
    "        inp = x[:, :n]\n",
    "        sol = y[:, -n:]\n",
    "        # let the model sample the rest of the sequence\n",
    "        cat = model.generate(inp, n, do_sample=False) # using greedy argmax, not sampling\n",
    "        sol_candidate = cat[:, n:] # isolate the filled in sequence\n",
    "        # compare the predicted sequence to the true sequence\n",
    "        correct = (sol == sol_candidate).all(1).cpu() # Software 1.0 vs. Software 2.0 fight RIGHT on this line haha\n",
    "        for i in range(x.size(0)):\n",
    "            results.append(int(correct[i]))\n",
    "            if not correct[i] and mistakes_printed_already < 3: # only print up to 5 mistakes to get a sense\n",
    "                mistakes_printed_already += 1\n",
    "                print(\"GPT claims that %s sorted is %s but gt is %s\" % (inp[i].tolist(), sol_candidate[i].tolist(), sol[i].tolist()))\n",
    "        if max_batches is not None and b+1 >= max_batches:\n",
    "            break\n",
    "    rt = torch.tensor(results, dtype=torch.float)\n",
    "    print(\"%s final score: %d/%d = %.2f%% correct\" % (split, rt.sum(), len(results), 100*rt.mean()))\n",
    "    return rt.sum()\n",
    "\n",
    "# run a lot of examples from both train and test through the model and verify the output correctness\n",
    "with torch.no_grad():\n",
    "    train_score = eval_split(trainer, 'train', max_batches=50)\n",
    "    test_score  = eval_split(trainer, 'test',  max_batches=50)"
   ]
  },
  {
   "cell_type": "code",
   "execution_count": 9,
   "metadata": {},
   "outputs": [
    {
     "name": "stdout",
     "output_type": "stream",
     "text": [
      "input sequence  : [[0, 0, 2, 1, 0, 1]]\n",
      "predicted sorted: [[0, 0, 0, 1, 1, 2]]\n",
      "gt sort         : [0, 0, 0, 1, 1, 2]\n",
      "matches         : True\n"
     ]
    }
   ],
   "source": [
    "# let's run a random given sequence through the model as well\n",
    "n = train_dataset.length # naugy direct access shrug\n",
    "inp = torch.tensor([[0, 0, 2, 1, 0, 1]], dtype=torch.long).to(trainer.device)\n",
    "assert inp[0].nelement() == n\n",
    "with torch.no_grad():\n",
    "    cat = model.generate(inp, n, do_sample=False)\n",
    "sol = torch.sort(inp[0])[0]\n",
    "sol_candidate = cat[:, n:]\n",
    "print('input sequence  :', inp.tolist())\n",
    "print('predicted sorted:', sol_candidate.tolist())\n",
    "print('gt sort         :', sol.tolist())\n",
    "print('matches         :', bool((sol == sol_candidate).all()))"
   ]
  }
 ],
 "metadata": {
  "kernelspec": {
   "display_name": "venv",
   "language": "python",
   "name": "python3"
  },
  "language_info": {
   "codemirror_mode": {
    "name": "ipython",
    "version": 3
   },
   "file_extension": ".py",
   "mimetype": "text/x-python",
   "name": "python",
   "nbconvert_exporter": "python",
   "pygments_lexer": "ipython3",
   "version": "3.12.3"
  },
  "orig_nbformat": 4
 },
 "nbformat": 4,
 "nbformat_minor": 2
}

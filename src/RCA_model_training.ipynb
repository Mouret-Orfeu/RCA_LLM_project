{
 "cells": [
  {
   "cell_type": "markdown",
   "metadata": {},
   "source": [
    "A cute little demo showing the simplest usage of minGPT. Configured to run fine on Macbook Air in like a minute."
   ]
  },
  {
   "cell_type": "code",
   "execution_count": 6,
   "metadata": {},
   "outputs": [],
   "source": [
    "import os\n",
    "os.chdir('/home/orfeu/Documents/documents/info_perso/RCA_LLM_project')\n",
    "\n",
    "import random\n",
    "import numpy as np\n",
    "import pandas as pd\n",
    "import torch\n",
    "from torch.utils.data import Dataset\n",
    "from torch.utils.data.dataloader import DataLoader\n",
    "from transformers import GPT2LMHeadModel, AutoTokenizer\n",
    "from rca_llm.utils import set_seed\n",
    "from rca_llm.RCADataset import RCADataset\n",
    "from rca_llm.trainer import Trainer\n",
    "from rca_llm.HFModelAdapter import HFModelAdapter\n",
    "set_seed(3407)\n"
   ]
  },
  {
   "cell_type": "code",
   "execution_count": 8,
   "metadata": {},
   "outputs": [],
   "source": [
    "model_type = 'gpt2'\n",
    "device = 'cuda' if torch.cuda.is_available() else 'cpu'"
   ]
  },
  {
   "cell_type": "code",
   "execution_count": 13,
   "metadata": {},
   "outputs": [
    {
     "name": "stdout",
     "output_type": "stream",
     "text": [
      "Input IDs: tensor([50256, 50256, 50256,  ...,   415,    13, 50256])\n",
      "Labels: tensor([ -100,  -100,  -100,  ...,   415,    13, 50256])\n",
      "Decoded Input:\n",
      "description du ticket itsm: Bonjour, je ne peux pas utiliser correctement mon audio. Il ne fonctionne pas pendant les appels Teams surtout quand je tente d'envoyer un e-mail. Ce souci est apparu ce matin. Merci pour votre aide.\n",
      "Réponse de l'équipe IT pour la résolution du ticket: Merci pour votre signalement. Le problème était lié à un paramétrage réseau incorrect. Nous avons redémarré le service concerné. Cela devrait être résolu maintenant.\n",
      "\n",
      "Decoded Labels:\n",
      "mmmmmmmmmmmmmmmmmmmmmmmmmmmmmmmmmmmmmmmmmmmmmmmmmmmmmmmmmmmmmmmmmmmmmmmmmmmmmmmmmmmmmmmmmmmmmmmmmmmmmmmmmmmmmmmmmmmmmmmmmmmmmmmmmmmmmmmmmmmmmmmmmmmmmmmmmmmmmmmmmmmmmmmmmmmmmmmmmmmmmmmmmmmmmmmmmmmmmmmmmmmmmmmmmmmmmmmmmmmmmmmmmmmmmmmmmmmmmmmmmmmmmmmmmmmmmmmmmmmmmmmmmmmmmmmmmmmmmmmmmmmmmmmmmmmmmmmmmmmmmmmmmmmmmmmmmmmmmmmmmmmmmmmmmmmmmmmmmmmmmmmmmmmmmmmmmmmmmmmmmmmmmmmmmmmmmmmmmmmmmmmmmmmmmmmmmmmmmmmmmmmmmmmmmmmmmmmmmmmmmmmmmmmmmmmmmmmmmmmmmmmmmmmmmmmmmmmmmmmmmmmmmmmmmmmmmmmmmmmmmmmmmmmmmmmmmmmmmmmmmmmmmmmmmmmmmmmmmmmmmmmmmmmmmmmmmmmmmmmmmmmmmmmmmmmmmmmmmmmmmmmmmmmmmmmmmmmmmmmmmmmmmmmmmmmmmmmmmmmmmmmmmmmmmmmmmmmmmmmmmmmmmmmmmmmmmmmmmmmmmmmmmmmmmmmmmmmmmmmmmmmmmmmmmmmmmmmmmmmmmmmmmmmmmmmmmmmmmmmmmmmmmmmmmmmmmmmmmmmmmmmmmmmmmmmmmmmmmmmmmmmmmmmmmmmmmmmmmmmmmmmmmmmmmmmmmmmmmmmmmmmmmmmmmmmmmmmmmmmmmmmmmmmmmmmmmmmmmmmmmmmmmmmmmmmmmmmmmmmmmmmmmmmmmmmmmmmmmmmmmmmmmmmmmmmmmmmmmmmmmmmmmmmmmmmmmmmmmmmmmmmmmmmmmmmmmmmmmmmmmmmmmmmmmmmmmmmmmmmmmmmmmmmmmmmmmmmmmmmmmmmmmMerci pour votre signalement. Le problème était lié à un paramétrage réseau incorrect. Nous avons redémarré le service concerné. Cela devrait être résolu maintenant.\n",
      "\n"
     ]
    }
   ],
   "source": [
    "# print an example instance of the dataset\n",
    "df = pd.read_csv('./data/itsm_tickets_meaningful_200_utf8.csv', sep=';', encoding='utf-8')\n",
    "tokenizer = AutoTokenizer.from_pretrained(model_type)\n",
    "train_dataset = RCADataset(df, 'train', tokenizer)\n",
    "test_dataset = RCADataset(df, 'test', tokenizer)\n",
    "\n",
    "x, y = train_dataset[0]\n",
    "\n",
    "# token ids\n",
    "print(\"Input IDs:\", x)\n",
    "print(\"Labels:\", y)\n",
    "\n",
    "# decoded text\n",
    "print(f\"Decoded Input:\\n{tokenizer.decode(x, skip_special_tokens=True)}\\n\")\n",
    "\n",
    "# For y, I replace all masked tokens (id = -100) by the letter m\n",
    "y = [token if token != -100 else tokenizer.convert_tokens_to_ids('m') for token in y]\n",
    "print(f\"Decoded Labels:\\n{tokenizer.decode(y, skip_special_tokens=True)}\\n\")"
   ]
  },
  {
   "cell_type": "code",
   "execution_count": null,
   "metadata": {},
   "outputs": [],
   "source": [
    "\n",
    "hf_model = GPT2LMHeadModel.from_pretrained(model_type)\n",
    "model = HFModelAdapter(hf_model, model_type)\n",
    "model.to(device)"
   ]
  },
  {
   "cell_type": "code",
   "execution_count": null,
   "metadata": {},
   "outputs": [],
   "source": [
    "# This code here initialize the model object by encapsulating the HF model in a class called HFAdapter, that makes it compatible with the training loop defined for mingpt\n",
    "\n",
    "# from transformers import GPT2LMHeadModel\n",
    "# hf_model = GPT2LMHeadModel.from_pretrained(\"gpt2\")\n",
    "# hf_model.resize_token_embeddings(10)               # << shrinks vocab to your digits\n",
    "# hf_model.config.pad_token_id = hf_model.config.eos_token_id\n",
    "# model = HFAdapter(hf_model)"
   ]
  },
  {
   "cell_type": "code",
   "execution_count": null,
   "metadata": {},
   "outputs": [],
   "source": [
    "train_config = Trainer.get_default_config()\n",
    "train_config.max_iters = 2000\n",
    "train_config.num_workers = 0\n",
    "trainer = Trainer(train_config, model, train_dataset)\n"
   ]
  },
  {
   "cell_type": "code",
   "execution_count": null,
   "metadata": {},
   "outputs": [
    {
     "name": "stdout",
     "output_type": "stream",
     "text": [
      "iter_dt 0.00ms; iter 0: train loss 0.00327\n",
      "iter_dt 26.96ms; iter 100: train loss 0.02028\n",
      "iter_dt 25.73ms; iter 200: train loss 0.02236\n",
      "iter_dt 33.71ms; iter 300: train loss 0.01246\n",
      "iter_dt 27.47ms; iter 400: train loss 0.02870\n",
      "iter_dt 28.32ms; iter 500: train loss 0.00278\n",
      "iter_dt 45.71ms; iter 600: train loss 0.03206\n",
      "iter_dt 26.38ms; iter 700: train loss 0.00522\n",
      "iter_dt 28.91ms; iter 800: train loss 0.00695\n",
      "iter_dt 27.86ms; iter 900: train loss 0.00521\n",
      "iter_dt 27.65ms; iter 1000: train loss 0.00120\n",
      "iter_dt 40.41ms; iter 1100: train loss 0.01663\n",
      "iter_dt 27.01ms; iter 1200: train loss 0.01429\n",
      "iter_dt 28.49ms; iter 1300: train loss 0.00135\n",
      "iter_dt 29.14ms; iter 1400: train loss 0.01628\n",
      "iter_dt 26.49ms; iter 1500: train loss 0.01357\n",
      "iter_dt 26.22ms; iter 1600: train loss 0.00091\n",
      "iter_dt 27.38ms; iter 1700: train loss 0.03434\n",
      "iter_dt 26.37ms; iter 1800: train loss 0.00266\n",
      "iter_dt 27.40ms; iter 1900: train loss 0.00617\n"
     ]
    }
   ],
   "source": [
    "def batch_end_callback(trainer):\n",
    "    if trainer.iter_num % 100 == 0:\n",
    "        print(f\"iter_dt {trainer.iter_dt * 1000:.2f}ms; iter {trainer.iter_num}: train loss {trainer.loss.item():.5f}\")\n",
    "trainer.set_callback('on_batch_end', batch_end_callback)\n",
    "\n",
    "# iteration callback\n",
    "# top_score = 0\n",
    "# def batch_end_callback(trainer):\n",
    "#     global top_score\n",
    "\n",
    "#     if trainer.iter_num % 10 == 0:\n",
    "#         print(f\"iter_dt {trainer.iter_dt * 1000:.2f}ms; iter {trainer.iter_num}: train loss {trainer.loss.item():.5f}\")\n",
    "\n",
    "#     if trainer.iter_num % 500 == 0:\n",
    "#         # evaluate both the train and test score\n",
    "#         train_max_batches = {1: None, 2: None, 3: 5}[config.data.ndigit] # if ndigit=2 we can afford the whole train set, ow no\n",
    "#         model.eval()\n",
    "#         with torch.no_grad():\n",
    "#             train_score = eval_split(trainer, 'train', max_batches=train_max_batches)\n",
    "#             test_score  = eval_split(trainer, 'test',  max_batches=None)\n",
    "#         score = train_score + test_score\n",
    "#         # save the model if this is the best score we've seen so far\n",
    "#         if score > top_score:\n",
    "#             top_score = score\n",
    "#             print(f\"saving model with new top score of {score}\")\n",
    "#             ckpt_path = os.path.join(config.system.work_dir, \"model.pt\")\n",
    "#             torch.save(model.state_dict(), ckpt_path)\n",
    "#         # revert model to training mode\n",
    "#         model.train()\n",
    "\n",
    "# trainer.set_callback('on_batch_end', batch_end_callback)\n",
    "\n",
    "\n",
    "trainer.run()"
   ]
  },
  {
   "cell_type": "code",
   "execution_count": 11,
   "metadata": {},
   "outputs": [],
   "source": [
    "# now let's perform some evaluation\n",
    "model.eval();"
   ]
  },
  {
   "cell_type": "code",
   "execution_count": null,
   "metadata": {},
   "outputs": [
    {
     "name": "stdout",
     "output_type": "stream",
     "text": [
      "train final score: 5000/5000 = 100.00% correct\n",
      "test final score: 5000/5000 = 100.00% correct\n"
     ]
    }
   ],
   "source": [
    "def eval_split(trainer, split, max_batches):\n",
    "    dataset = {'train':train_dataset, 'test':test_dataset}[split]\n",
    "    n = train_dataset.length # naugy direct access shrug\n",
    "    results = []\n",
    "    mistakes_printed_already = 0\n",
    "    loader = DataLoader(dataset, batch_size=100, num_workers=0, drop_last=False)\n",
    "    for b, (x, y) in enumerate(loader):\n",
    "        x = x.to(trainer.device)\n",
    "        y = y.to(trainer.device)\n",
    "        # isolate the input pattern alone\n",
    "        inp = x[:, :n]\n",
    "        sol = y[:, -n:]\n",
    "        # let the model sample the rest of the sequence\n",
    "        cat = model.generate(inp, n, do_sample=False) # using greedy argmax, not sampling\n",
    "        sol_candidate = cat[:, n:] # isolate the filled in sequence\n",
    "        # compare the predicted sequence to the true sequence\n",
    "        correct = (sol == sol_candidate).all(1).cpu() # Software 1.0 vs. Software 2.0 fight RIGHT on this line haha\n",
    "        for i in range(x.size(0)):\n",
    "            results.append(int(correct[i]))\n",
    "            if not correct[i] and mistakes_printed_already < 3: # only print up to 5 mistakes to get a sense\n",
    "                mistakes_printed_already += 1\n",
    "                print(\"GPT claims that %s sorted is %s but gt is %s\" % (inp[i].tolist(), sol_candidate[i].tolist(), sol[i].tolist()))\n",
    "        if max_batches is not None and b+1 >= max_batches:\n",
    "            break\n",
    "    rt = torch.tensor(results, dtype=torch.float)\n",
    "    print(\"%s final score: %d/%d = %.2f%% correct\" % (split, rt.sum(), len(results), 100*rt.mean()))\n",
    "    return rt.sum()\n",
    "\n",
    "# run a lot of examples from both train and test through the model and verify the output correctness\n",
    "with torch.no_grad():\n",
    "    train_score = eval_split(trainer, 'train', max_batches=50)\n",
    "    test_score  = eval_split(trainer, 'test',  max_batches=50)"
   ]
  },
  {
   "cell_type": "code",
   "execution_count": 9,
   "metadata": {},
   "outputs": [
    {
     "name": "stdout",
     "output_type": "stream",
     "text": [
      "input sequence  : [[0, 0, 2, 1, 0, 1]]\n",
      "predicted sorted: [[0, 0, 0, 1, 1, 2]]\n",
      "gt sort         : [0, 0, 0, 1, 1, 2]\n",
      "matches         : True\n"
     ]
    }
   ],
   "source": [
    "# let's run a random given sequence through the model as well\n",
    "n = train_dataset.length # naugy direct access shrug\n",
    "inp = torch.tensor([[0, 0, 2, 1, 0, 1]], dtype=torch.long).to(trainer.device)\n",
    "assert inp[0].nelement() == n\n",
    "with torch.no_grad():\n",
    "    cat = model.generate(inp, n, do_sample=False)\n",
    "sol = torch.sort(inp[0])[0]\n",
    "sol_candidate = cat[:, n:]\n",
    "print('input sequence  :', inp.tolist())\n",
    "print('predicted sorted:', sol_candidate.tolist())\n",
    "print('gt sort         :', sol.tolist())\n",
    "print('matches         :', bool((sol == sol_candidate).all()))"
   ]
  }
 ],
 "metadata": {
  "kernelspec": {
   "display_name": "venv",
   "language": "python",
   "name": "python3"
  },
  "language_info": {
   "codemirror_mode": {
    "name": "ipython",
    "version": 3
   },
   "file_extension": ".py",
   "mimetype": "text/x-python",
   "name": "python",
   "nbconvert_exporter": "python",
   "pygments_lexer": "ipython3",
   "version": "3.12.3"
  },
  "orig_nbformat": 4
 },
 "nbformat": 4,
 "nbformat_minor": 2
}
